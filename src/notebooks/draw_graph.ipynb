{
 "cells": [
  {
   "cell_type": "code",
   "execution_count": null,
   "metadata": {},
   "outputs": [
    {
     "ename": "Error",
     "evalue": "No such file or directory (os error 2)",
     "output_type": "error",
     "traceback": [
      "\u001b[31mError:\u001b[0m No such file or directory (os error 2)"
     ]
    }
   ],
   "source": [
    ":dep ../..\n",
    ":dep itertools\n",
    ":dep tap\n",
    "use tap::prelude::*;\n",
    "use itertools::Itertools;\n",
    "use itertools::FoldWhile::{Continue, Done};\n",
    "use lan_rs_common::*;\n",
    "\n",
    "do_add(2, 3)"
   ]
  }
 ],
 "metadata": {
  "kernelspec": {
   "display_name": "Rust",
   "language": "rust",
   "name": "rust"
  },
  "language_info": {
   "codemirror_mode": "rust",
   "file_extension": ".rs",
   "mimetype": "text/rust",
   "name": "rust",
   "pygment_lexer": "rust",
   "version": ""
  }
 },
 "nbformat": 4,
 "nbformat_minor": 2
}
