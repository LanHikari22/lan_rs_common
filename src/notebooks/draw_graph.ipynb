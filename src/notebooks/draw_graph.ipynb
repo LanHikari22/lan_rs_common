{
 "cells": [
  {
   "cell_type": "code",
   "execution_count": null,
   "metadata": {
    "vscode": {
     "languageId": "rust"
    }
   },
   "outputs": [
    {
     "ename": "Error",
     "evalue": "the trait bound `Graph<u32, String>: petgraph::visit::Data` is not satisfied",
     "output_type": "error",
     "traceback": [
      "the trait bound `Graph<u32, String>: petgraph::visit::Data` is not satisfied"
     ]
    },
    {
     "ename": "Error",
     "evalue": "the trait bound `Graph<u32, String>: petgraph::visit::NodeIndexable` is not satisfied",
     "output_type": "error",
     "traceback": [
      "the trait bound `Graph<u32, String>: petgraph::visit::NodeIndexable` is not satisfied"
     ]
    },
    {
     "ename": "Error",
     "evalue": "the trait bound `Graph<u32, String>: petgraph::visit::IntoNodeReferences` is not satisfied",
     "output_type": "error",
     "traceback": [
      "the trait bound `Graph<u32, String>: petgraph::visit::IntoNodeReferences` is not satisfied"
     ]
    },
    {
     "ename": "Error",
     "evalue": "the trait bound `Graph<u32, String>: petgraph::visit::IntoEdgeReferences` is not satisfied",
     "output_type": "error",
     "traceback": [
      "the trait bound `Graph<u32, String>: petgraph::visit::IntoEdgeReferences` is not satisfied"
     ]
    },
    {
     "ename": "Error",
     "evalue": "the trait bound `Graph<u32, String>: petgraph::visit::GraphProp` is not satisfied",
     "output_type": "error",
     "traceback": [
      "the trait bound `Graph<u32, String>: petgraph::visit::GraphProp` is not satisfied"
     ]
    }
   ],
   "source": [
    ":dep ../..\n",
    ":dep petgraph = \"0.7.1\"\n",
    ":dep itertools\n",
    ":dep tap\n",
    "use tap::prelude::*;\n",
    "use itertools::Itertools;\n",
    "use itertools::FoldWhile::{Continue, Done};\n",
    "// use lan_rs_common::*;\n",
    "\n",
    "use petgraph::graph::Graph;\n",
    "use petgraph::visit::{IntoNodeReferences, IntoEdgeReferences, NodeIndexable, GraphProp, Data};\n",
    "\n",
    "do_add(2, 3)"
   ]
  }
 ],
 "metadata": {
  "kernelspec": {
   "display_name": "Rust",
   "language": "rust",
   "name": "rust"
  },
  "language_info": {
   "codemirror_mode": "rust",
   "file_extension": ".rs",
   "mimetype": "text/rust",
   "name": "Rust",
   "pygment_lexer": "rust",
   "version": ""
  }
 },
 "nbformat": 4,
 "nbformat_minor": 2
}
