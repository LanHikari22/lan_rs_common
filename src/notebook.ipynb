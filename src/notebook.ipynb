{
 "cells": [
  {
   "cell_type": "code",
   "execution_count": null,
   "metadata": {
    "vscode": {
     "languageId": "rust"
    }
   },
   "outputs": [
    {
     "data": {
      "text/plain": [
       "[]"
      ]
     },
     "execution_count": 2,
     "metadata": {},
     "output_type": "execute_result"
    }
   ],
   "source": [
    ":dep ..\n",
    ":dep itertools\n",
    ":dep tap\n",
    ":dep rand\n",
    ":dep im\n",
    ":dep rpds\n",
    ":dep ibig\n",
    ":dep libm\n",
    "use itertools::Itertools;\n",
    "use itertools::FoldWhile::{Continue, Done};\n",
    "use std::io;\n",
    "use tap::prelude::*;\n",
    "use aoc::*;\n",
    "use rand::seq::SliceRandom;\n",
    "use im::{hashset, ordset, vector, hashmap, HashSet, OrdSet, Vector, HashMap};\n",
    "use ibig::{ubig, UBig};\n",
    "use libm;\n",
    "// do_add(2, 3)\n",
    "\n",
    "let (row_len, topographic_map) = {\n",
    "    read_user_input_from_file(\"../puzzle_input\") //_\n",
    "        .pipe(pass_ref!(read_square_char_input))\n",
    "        .pipe(|(row_len, s)| (row_len, parse_topographic_map(&s)))\n",
    "};\n",
    "let hike_graph = //_\n",
    "    create_hike_trail_directed_graph(&topographic_map, row_len);\n",
    "\n",
    "// hike_graph.adj_matrix_of_degree(9).column(hike_graph.lookup[&3] as usize)\n",
    "// find_all_trailheads(&topographic_map, &hike_graph, row_len)\n",
    "// hike_graph\n",
    "\n",
    "hike_graph.reconstruct_paths_between_nodes(hike_graph.lookup[&3], hike_graph.lookup[&42])"
   ]
  }
 ],
 "metadata": {
  "kernelspec": {
   "display_name": "Rust",
   "language": "rust",
   "name": "rust"
  },
  "language_info": {
   "codemirror_mode": "rust",
   "file_extension": ".rs",
   "mimetype": "text/rust",
   "name": "Rust",
   "pygment_lexer": "rust",
   "version": ""
  }
 },
 "nbformat": 4,
 "nbformat_minor": 2
}
